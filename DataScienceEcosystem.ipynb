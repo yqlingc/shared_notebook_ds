{
 "cells": [
  {
   "cell_type": "markdown",
   "id": "135c83ba",
   "metadata": {},
   "source": [
    "# Data Science Tools and Ecosystem"
   ]
  },
  {
   "cell_type": "markdown",
   "id": "531b339d",
   "metadata": {},
   "source": [
    "In this notebook, Data Science Tools and Ecosystem are summarized"
   ]
  },
  {
   "cell_type": "markdown",
   "id": "e4f23dc2",
   "metadata": {},
   "source": [
    "Some of the popular languages that data scientists use are:\n",
    "1. Python\n",
    "2. R\n",
    "3. SQL\n",
    "4. Java\n",
    "5. Scala\n",
    "6. C/C++\n",
    "7. JavaScript"
   ]
  },
  {
   "cell_type": "markdown",
   "id": "1eeb043a",
   "metadata": {},
   "source": [
    "Some of the commonly used libraries used by Data Scientists include:\n",
    "* NumPy\n",
    "* Keras\n",
    "* Pandas\n",
    "* PyTorch\n",
    "* SciPy\n",
    "* TensorFlow\n",
    "* Matplotlib"
   ]
  },
  {
   "cell_type": "markdown",
   "id": "a7955263",
   "metadata": {},
   "source": [
    "| Data Science Tools |\n",
    "|:------------------:|\n",
    "| Jupyter Notebook  |\n",
    "| RStudio  |\n",
    "| Spyder |"
   ]
  },
  {
   "cell_type": "markdown",
   "id": "0ae6c12a",
   "metadata": {},
   "source": [
    "### Below are a few examples of evaluating arithmetic expressions in Python"
   ]
  },
  {
   "cell_type": "code",
   "execution_count": 5,
   "id": "b4a99a24",
   "metadata": {},
   "outputs": [
    {
     "data": {
      "text/plain": [
       "17"
      ]
     },
     "execution_count": 5,
     "metadata": {},
     "output_type": "execute_result"
    }
   ],
   "source": [
    "# This a simple arithmetic expression to mutiply then add integers\n",
    "(3*4)+5"
   ]
  },
  {
   "cell_type": "code",
   "execution_count": 8,
   "id": "14381a6d",
   "metadata": {},
   "outputs": [
    {
     "data": {
      "text/plain": [
       "3.33"
      ]
     },
     "execution_count": 8,
     "metadata": {},
     "output_type": "execute_result"
    }
   ],
   "source": [
    "# This will convert 200 minutes to hours by diving by 60\n",
    "round(200/60,2)"
   ]
  },
  {
   "cell_type": "code",
   "execution_count": 15,
   "id": "447e13de",
   "metadata": {},
   "outputs": [
    {
     "name": "stdout",
     "output_type": "stream",
     "text": [
      "200 minutes is equivalent to 3.33 hours\n"
     ]
    }
   ],
   "source": [
    "# This will convert 200 minutes to hours by diving by 60\n",
    "min = 200\n",
    "print(min, 'minutes is equivalent to', round(200/60,2), 'hours')"
   ]
  },
  {
   "cell_type": "markdown",
   "id": "86f73c07",
   "metadata": {},
   "source": [
    "__Objective:__\n",
    "* Some of the popular languages that data scientists use\n",
    "* Some of the commonly used libraries used by Data Scientists\n",
    "* A simple arithmetic expression"
   ]
  },
  {
   "cell_type": "markdown",
   "id": "1bde9463",
   "metadata": {},
   "source": [
    "## Author\n",
    "Yaoqi Lin"
   ]
  },
  {
   "cell_type": "code",
   "execution_count": null,
   "id": "99e855f0",
   "metadata": {},
   "outputs": [],
   "source": []
  }
 ],
 "metadata": {
  "kernelspec": {
   "display_name": "Python 3 (ipykernel)",
   "language": "python",
   "name": "python3"
  },
  "language_info": {
   "codemirror_mode": {
    "name": "ipython",
    "version": 3
   },
   "file_extension": ".py",
   "mimetype": "text/x-python",
   "name": "python",
   "nbconvert_exporter": "python",
   "pygments_lexer": "ipython3",
   "version": "3.10.9"
  }
 },
 "nbformat": 4,
 "nbformat_minor": 5
}
